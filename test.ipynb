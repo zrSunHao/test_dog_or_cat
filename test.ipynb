{
 "cells": [
  {
   "cell_type": "code",
   "execution_count": 1,
   "metadata": {},
   "outputs": [],
   "source": [
    "import os\n",
    "from PIL import Image\n",
    "import numpy as np\n",
    "import torch as t\n",
    "from torch.utils.data import Dataset\n",
    " \n",
    "class DogCat(Dataset):\n",
    "    def __init__(self, root):\n",
    "        imgs = os.listdir(root)\n",
    "        # 所有图像的绝对路径\n",
    "        # 这里不实际加载图像，只是指定路径，当调用 __getitem__ 是才会真正的读取图像\n",
    "        self.imgs = [os.path.join(root, img) for img in imgs]\n",
    " \n",
    "    # 此处可以添加异常处理，在获取图像出现异常时，随机返回一张图片（推荐），或返回 None\n",
    "    def __getitem__(self, index):\n",
    "        img_path = self.imgs[index]\n",
    "        label = 1 if 'dog' in img_path.split('/')[-1] else 0   # dog -> 1, cat -> 0\n",
    "        pil_img = Image.open(img_path)\n",
    "        array = np.asarray(pil_img)\n",
    "        print(array)\n",
    "        data = t.tensor(array)\n",
    "        return data, label\n",
    " \n",
    "    def __len__(self):\n",
    "        return len(self.imgs)"
   ]
  },
  {
   "cell_type": "code",
   "execution_count": 3,
   "metadata": {},
   "outputs": [
    {
     "name": "stdout",
     "output_type": "stream",
     "text": [
      "[[[203 164  87]\n",
      "  [203 164  87]\n",
      "  [204 165  88]\n",
      "  ...\n",
      "  [240 201 122]\n",
      "  [239 200 121]\n",
      "  [238 199 120]]\n",
      "\n",
      " [[203 164  87]\n",
      "  [203 164  87]\n",
      "  [204 165  88]\n",
      "  ...\n",
      "  [241 202 123]\n",
      "  [240 201 122]\n",
      "  [238 199 120]]\n",
      "\n",
      " [[203 164  87]\n",
      "  [203 164  87]\n",
      "  [204 165  88]\n",
      "  ...\n",
      "  [241 202 123]\n",
      "  [240 201 122]\n",
      "  [239 200 121]]\n",
      "\n",
      " ...\n",
      "\n",
      " [[153 122  55]\n",
      "  [153 122  55]\n",
      "  [153 122  55]\n",
      "  ...\n",
      "  [  2   2   0]\n",
      "  [  2   2   0]\n",
      "  [  2   2   0]]\n",
      "\n",
      " [[152 121  54]\n",
      "  [152 121  54]\n",
      "  [152 121  54]\n",
      "  ...\n",
      "  [  2   2   0]\n",
      "  [  2   2   0]\n",
      "  [  2   2   0]]\n",
      "\n",
      " [[151 120  53]\n",
      "  [151 120  53]\n",
      "  [151 120  53]\n",
      "  ...\n",
      "  [  1   1   0]\n",
      "  [  1   1   0]\n",
      "  [  1   1   0]]]\n",
      "torch.Size([374, 500, 3]) tensor(119.7826) 0 \n",
      "\n",
      "torch.Size([3, 374, 500])\n"
     ]
    },
    {
     "data": {
      "image/png": "[encoded data removed]",
      "text/plain": [
       "<PIL.Image.Image image mode=RGB size=100x100>"
      ]
     },
     "execution_count": 3,
     "metadata": {},
     "output_type": "execute_result"
    }
   ],
   "source": [
    "from torchvision.transforms import ToPILImage\n",
    "show = ToPILImage()\n",
    " \n",
    "root = './dataset/train/'\n",
    "dataset = DogCat(root)\n",
    " \n",
    "img, label = dataset[0]                                               # 相当于调用 dataset.__getitem__(0)\n",
    "print(img.size(), img.float().mean(), label, '\\n')\n",
    " \n",
    "img1 = t.einsum('ijk->kij', img)                                 # 爱因斯坦球和操作，这里用来交换维度顺序\n",
    "print(img1.size())\n",
    "show(img1).resize((100, 100))"
   ]
  }
 ],
 "metadata": {
  "kernelspec": {
   "display_name": "Python 3",
   "language": "python",
   "name": "python3"
  },
  "language_info": {
   "codemirror_mode": {
    "name": "ipython",
    "version": 3
   },
   "file_extension": ".py",
   "mimetype": "text/x-python",
   "name": "python",
   "nbconvert_exporter": "python",
   "pygments_lexer": "ipython3",
   "version": "3.9.15"
  },
  "orig_nbformat": 4
 },
 "nbformat": 4,
 "nbformat_minor": 2
}
